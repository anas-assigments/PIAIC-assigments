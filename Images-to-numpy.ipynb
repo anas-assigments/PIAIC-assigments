{
 "cells": [
  {
   "cell_type": "code",
   "execution_count": null,
   "metadata": {},
   "outputs": [],
   "source": [
    "import os\n",
    "from PIL import Image\n",
    "import numpy as np\n",
    "\n",
    "\n",
    "# Set the directory you want to start from\n",
    "rootDir = '/home/joker/assigment_imgs'\n",
    "for dirName, subdirList, fileList in os.walk(rootDir):\n",
    "    print('Found directory: %s' % dirName)\n",
    "    for fname in fileList:\n",
    "        print('\\t%s' % fname)\n",
    "        \n",
    "main_list = []\n",
    "for i in range(len(fileList)):\n",
    "    im = Image.open(dirName+\"/\"+fileList[i])\n",
    "    #print('Dowanloaded images size shape =', original_array.shape)\n",
    "    new_image = im.resize((200, 200))\n",
    "    resized_array = np.array(new_image)\n",
    "    #print('Resized images size shape =', resized_array.shape)\n",
    "    main_list.append(resized_array)\n",
    "print(main_list, '\\n', np.shape(main_list))"
   ]
  }
 ],
 "metadata": {
  "kernelspec": {
   "display_name": "Python 3",
   "language": "python",
   "name": "python3"
  },
  "language_info": {
   "codemirror_mode": {
    "name": "ipython",
    "version": 3
   },
   "file_extension": ".py",
   "mimetype": "text/x-python",
   "name": "python",
   "nbconvert_exporter": "python",
   "pygments_lexer": "ipython3",
   "version": "3.7.3"
  }
 },
 "nbformat": 4,
 "nbformat_minor": 2
}
